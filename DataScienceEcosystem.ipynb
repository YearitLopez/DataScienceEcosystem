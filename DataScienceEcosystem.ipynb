{
  "metadata": {
    "kernelspec": {
      "name": "python",
      "display_name": "Python (Pyodide)",
      "language": "python"
    },
    "language_info": {
      "codemirror_mode": {
        "name": "python",
        "version": 3
      },
      "file_extension": ".py",
      "mimetype": "text/x-python",
      "name": "python",
      "nbconvert_exporter": "python",
      "pygments_lexer": "ipython3",
      "version": "3.8"
    }
  },
  "nbformat_minor": 4,
  "nbformat": 4,
  "cells": [
    {
      "cell_type": "markdown",
      "source": "## Data Science Tools and Ecosystem ",
      "metadata": {}
    },
    {
      "cell_type": "markdown",
      "source": "En este cuaderno, se resumen las herramientas y ecosistemas de ciencia de datos.",
      "metadata": {}
    },
    {
      "cell_type": "markdown",
      "source": "Algunos de los lenguajes populares que utilizan los científicos de datos son:",
      "metadata": {}
    },
    {
      "cell_type": "markdown",
      "source": "1. Python  \n2. R  \n3. Julia",
      "metadata": {}
    },
    {
      "cell_type": "markdown",
      "source": "Algunas de las bibliotecas comúnmente utilizadas por los científicos de datos incluyen:\n\n1. NumPy  \n2. pandas  \n3. Matplotlib  \n4. scikit-learn  \n5. TensorFlow",
      "metadata": {}
    },
    {
      "cell_type": "markdown",
      "source": "| Herramientas de Ciencia de Datos |\n|----------------------------------|\n| Jupyter Notebook                 |\n| RStudio                          |\n| Apache Zeppelin                  |\n",
      "metadata": {}
    },
    {
      "cell_type": "markdown",
      "source": "### A continuación, se presentan algunos ejemplos de evaluación de expresiones aritméticas en Python.\n\n1. **Suma**: `2 + 3 = 5`  \n2. **Resta**: `10 - 4 = 6`  \n3. **Multiplicación**: `7 * 8 = 56`  \n4. **División**: `20 / 4 = 5.0`  \n5. **Potencia**: `3 ** 2 = 9`  \n6. **Módulo**: `10 % 3 = 1`\n",
      "metadata": {}
    },
    {
      "cell_type": "code",
      "source": "# Esta es una expresión aritmética simple para multiplicar y luego sumar enteros.\n(3 * 4) + 5\n",
      "metadata": {
        "trusted": true
      },
      "outputs": [
        {
          "execution_count": 1,
          "output_type": "execute_result",
          "data": {
            "text/plain": "17"
          },
          "metadata": {}
        }
      ],
      "execution_count": 1
    },
    {
      "cell_type": "code",
      "source": "# Esto convertirá 200 minutos a horas dividiendo por 60.\n200 / 60\n",
      "metadata": {
        "trusted": true
      },
      "outputs": [
        {
          "execution_count": 2,
          "output_type": "execute_result",
          "data": {
            "text/plain": "3.3333333333333335"
          },
          "metadata": {}
        }
      ],
      "execution_count": 2
    },
    {
      "cell_type": "markdown",
      "source": "**Objetivos:**\n\n- Listar lenguajes populares para Ciencia de Datos.  \n- Identificar bibliotecas clave utilizadas por científicos de datos.  \n- Demostrar operaciones aritméticas básicas en Python.  \n- Convertir unidades de medida, como minutos a horas.  \n- Introducir herramientas y entornos para el desarrollo de Ciencia de Datos.\n",
      "metadata": {}
    },
    {
      "cell_type": "markdown",
      "source": "## Autor\n\n[Yearit Susana Lopez Luque]\n",
      "metadata": {}
    },
    {
      "cell_type": "code",
      "source": "",
      "metadata": {
        "trusted": true
      },
      "outputs": [],
      "execution_count": null
    }
  ]
}